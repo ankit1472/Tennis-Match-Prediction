{
 "cells": [
  {
   "cell_type": "code",
   "execution_count": 1,
   "metadata": {},
   "outputs": [
    {
     "name": "stdout",
     "output_type": "stream",
     "text": [
      "<class 'pandas.core.frame.DataFrame'>\n",
      "RangeIndex: 14735 entries, 0 to 14734\n",
      "Data columns (total 25 columns):\n",
      " #   Column                Non-Null Count  Dtype  \n",
      "---  ------                --------------  -----  \n",
      " 0   ATP                   14735 non-null  int64  \n",
      " 1   Tournament            14735 non-null  object \n",
      " 2   Tournament_Int        14735 non-null  float64\n",
      " 3   Date                  14735 non-null  int64  \n",
      " 4   Series                14735 non-null  object \n",
      " 5   Series_Int            14735 non-null  float64\n",
      " 6   Court                 14735 non-null  object \n",
      " 7   Court_Int             14735 non-null  float64\n",
      " 8   Surface               14735 non-null  object \n",
      " 9   Surface_Int           14735 non-null  float64\n",
      " 10  Round                 14735 non-null  object \n",
      " 11  Round_Int             14735 non-null  float64\n",
      " 12  Best_of               14735 non-null  int64  \n",
      " 13  Winner                14735 non-null  object \n",
      " 14  Winner_Int            14735 non-null  float64\n",
      " 15  Player1               14735 non-null  object \n",
      " 16  Player1_Int           14735 non-null  float64\n",
      " 17  Player2               14735 non-null  object \n",
      " 18  Player2_Int           14735 non-null  float64\n",
      " 19  Player1_Rank          14712 non-null  float64\n",
      " 20  Player2_Rank          14720 non-null  float64\n",
      " 21  Player1_Odds          14735 non-null  float64\n",
      " 22  Player2_Odds          14735 non-null  float64\n",
      " 23  Player1_Implied_Prob  14735 non-null  float64\n",
      " 24  Player2_Implied_Prob  14735 non-null  float64\n",
      "dtypes: float64(14), int64(3), object(8)\n",
      "memory usage: 2.8+ MB\n"
     ]
    },
    {
     "data": {
      "text/html": [
       "<div>\n",
       "<style scoped>\n",
       "    .dataframe tbody tr th:only-of-type {\n",
       "        vertical-align: middle;\n",
       "    }\n",
       "\n",
       "    .dataframe tbody tr th {\n",
       "        vertical-align: top;\n",
       "    }\n",
       "\n",
       "    .dataframe thead th {\n",
       "        text-align: right;\n",
       "    }\n",
       "</style>\n",
       "<table border=\"1\" class=\"dataframe\">\n",
       "  <thead>\n",
       "    <tr style=\"text-align: right;\">\n",
       "      <th></th>\n",
       "      <th>ATP</th>\n",
       "      <th>Tournament</th>\n",
       "      <th>Tournament_Int</th>\n",
       "      <th>Date</th>\n",
       "      <th>Series</th>\n",
       "      <th>Series_Int</th>\n",
       "      <th>Court</th>\n",
       "      <th>Court_Int</th>\n",
       "      <th>Surface</th>\n",
       "      <th>Surface_Int</th>\n",
       "      <th>...</th>\n",
       "      <th>Player1</th>\n",
       "      <th>Player1_Int</th>\n",
       "      <th>Player2</th>\n",
       "      <th>Player2_Int</th>\n",
       "      <th>Player1_Rank</th>\n",
       "      <th>Player2_Rank</th>\n",
       "      <th>Player1_Odds</th>\n",
       "      <th>Player2_Odds</th>\n",
       "      <th>Player1_Implied_Prob</th>\n",
       "      <th>Player2_Implied_Prob</th>\n",
       "    </tr>\n",
       "  </thead>\n",
       "  <tbody>\n",
       "    <tr>\n",
       "      <th>0</th>\n",
       "      <td>1</td>\n",
       "      <td>BrisbaneInternational</td>\n",
       "      <td>1.2757</td>\n",
       "      <td>42737</td>\n",
       "      <td>ATP250</td>\n",
       "      <td>2.9693</td>\n",
       "      <td>Outdoor</td>\n",
       "      <td>3.6494</td>\n",
       "      <td>Hard</td>\n",
       "      <td>4.4983</td>\n",
       "      <td>...</td>\n",
       "      <td>YmerE.</td>\n",
       "      <td>6.7633</td>\n",
       "      <td>ThompsonJ.</td>\n",
       "      <td>6.7926</td>\n",
       "      <td>160.0</td>\n",
       "      <td>79.0</td>\n",
       "      <td>3.50</td>\n",
       "      <td>1.29</td>\n",
       "      <td>0.2857</td>\n",
       "      <td>0.7752</td>\n",
       "    </tr>\n",
       "    <tr>\n",
       "      <th>1</th>\n",
       "      <td>1</td>\n",
       "      <td>BrisbaneInternational</td>\n",
       "      <td>1.2757</td>\n",
       "      <td>42737</td>\n",
       "      <td>ATP250</td>\n",
       "      <td>2.9693</td>\n",
       "      <td>Outdoor</td>\n",
       "      <td>3.6494</td>\n",
       "      <td>Hard</td>\n",
       "      <td>4.4983</td>\n",
       "      <td>...</td>\n",
       "      <td>MahutN.</td>\n",
       "      <td>6.9297</td>\n",
       "      <td>RobertS.</td>\n",
       "      <td>6.9686</td>\n",
       "      <td>39.0</td>\n",
       "      <td>54.0</td>\n",
       "      <td>1.54</td>\n",
       "      <td>2.43</td>\n",
       "      <td>0.6494</td>\n",
       "      <td>0.4115</td>\n",
       "    </tr>\n",
       "    <tr>\n",
       "      <th>2</th>\n",
       "      <td>1</td>\n",
       "      <td>BrisbaneInternational</td>\n",
       "      <td>1.2757</td>\n",
       "      <td>42737</td>\n",
       "      <td>ATP250</td>\n",
       "      <td>2.9693</td>\n",
       "      <td>Outdoor</td>\n",
       "      <td>3.6494</td>\n",
       "      <td>Hard</td>\n",
       "      <td>4.4983</td>\n",
       "      <td>...</td>\n",
       "      <td>TomicB.</td>\n",
       "      <td>6.5792</td>\n",
       "      <td>FerrerD.</td>\n",
       "      <td>6.3881</td>\n",
       "      <td>26.0</td>\n",
       "      <td>21.0</td>\n",
       "      <td>1.77</td>\n",
       "      <td>2.01</td>\n",
       "      <td>0.5650</td>\n",
       "      <td>0.4975</td>\n",
       "    </tr>\n",
       "    <tr>\n",
       "      <th>3</th>\n",
       "      <td>1</td>\n",
       "      <td>BrisbaneInternational</td>\n",
       "      <td>1.2757</td>\n",
       "      <td>42737</td>\n",
       "      <td>ATP250</td>\n",
       "      <td>2.9693</td>\n",
       "      <td>Outdoor</td>\n",
       "      <td>3.6494</td>\n",
       "      <td>Hard</td>\n",
       "      <td>4.4983</td>\n",
       "      <td>...</td>\n",
       "      <td>EdmundK.</td>\n",
       "      <td>6.8384</td>\n",
       "      <td>EscobedoE.</td>\n",
       "      <td>6.0929</td>\n",
       "      <td>45.0</td>\n",
       "      <td>141.0</td>\n",
       "      <td>1.37</td>\n",
       "      <td>3.01</td>\n",
       "      <td>0.7299</td>\n",
       "      <td>0.3322</td>\n",
       "    </tr>\n",
       "    <tr>\n",
       "      <th>4</th>\n",
       "      <td>1</td>\n",
       "      <td>BrisbaneInternational</td>\n",
       "      <td>1.2757</td>\n",
       "      <td>42737</td>\n",
       "      <td>ATP250</td>\n",
       "      <td>2.9693</td>\n",
       "      <td>Outdoor</td>\n",
       "      <td>3.6494</td>\n",
       "      <td>Hard</td>\n",
       "      <td>4.4983</td>\n",
       "      <td>...</td>\n",
       "      <td>JohnsonS.</td>\n",
       "      <td>6.7032</td>\n",
       "      <td>DimitrovG.</td>\n",
       "      <td>6.5157</td>\n",
       "      <td>33.0</td>\n",
       "      <td>17.0</td>\n",
       "      <td>2.85</td>\n",
       "      <td>1.41</td>\n",
       "      <td>0.3509</td>\n",
       "      <td>0.7092</td>\n",
       "    </tr>\n",
       "    <tr>\n",
       "      <th>5</th>\n",
       "      <td>1</td>\n",
       "      <td>BrisbaneInternational</td>\n",
       "      <td>1.2757</td>\n",
       "      <td>42738</td>\n",
       "      <td>ATP250</td>\n",
       "      <td>2.9693</td>\n",
       "      <td>Outdoor</td>\n",
       "      <td>3.6494</td>\n",
       "      <td>Hard</td>\n",
       "      <td>4.4983</td>\n",
       "      <td>...</td>\n",
       "      <td>DonaldsonJ.</td>\n",
       "      <td>6.9054</td>\n",
       "      <td>MullerG.</td>\n",
       "      <td>6.6176</td>\n",
       "      <td>105.0</td>\n",
       "      <td>34.0</td>\n",
       "      <td>2.64</td>\n",
       "      <td>1.47</td>\n",
       "      <td>0.3788</td>\n",
       "      <td>0.6803</td>\n",
       "    </tr>\n",
       "    <tr>\n",
       "      <th>6</th>\n",
       "      <td>1</td>\n",
       "      <td>BrisbaneInternational</td>\n",
       "      <td>1.2757</td>\n",
       "      <td>42738</td>\n",
       "      <td>ATP250</td>\n",
       "      <td>2.9693</td>\n",
       "      <td>Outdoor</td>\n",
       "      <td>3.6494</td>\n",
       "      <td>Hard</td>\n",
       "      <td>4.4983</td>\n",
       "      <td>...</td>\n",
       "      <td>HerbertP.H.</td>\n",
       "      <td>6.9637</td>\n",
       "      <td>GrothS.</td>\n",
       "      <td>6.9961</td>\n",
       "      <td>78.0</td>\n",
       "      <td>180.0</td>\n",
       "      <td>1.61</td>\n",
       "      <td>2.27</td>\n",
       "      <td>0.6211</td>\n",
       "      <td>0.4405</td>\n",
       "    </tr>\n",
       "    <tr>\n",
       "      <th>7</th>\n",
       "      <td>1</td>\n",
       "      <td>BrisbaneInternational</td>\n",
       "      <td>1.2757</td>\n",
       "      <td>42738</td>\n",
       "      <td>ATP250</td>\n",
       "      <td>2.9693</td>\n",
       "      <td>Outdoor</td>\n",
       "      <td>3.6494</td>\n",
       "      <td>Hard</td>\n",
       "      <td>4.4983</td>\n",
       "      <td>...</td>\n",
       "      <td>PouilleL.</td>\n",
       "      <td>6.8045</td>\n",
       "      <td>SimonG.</td>\n",
       "      <td>6.6845</td>\n",
       "      <td>15.0</td>\n",
       "      <td>25.0</td>\n",
       "      <td>1.83</td>\n",
       "      <td>1.94</td>\n",
       "      <td>0.5464</td>\n",
       "      <td>0.5155</td>\n",
       "    </tr>\n",
       "    <tr>\n",
       "      <th>8</th>\n",
       "      <td>1</td>\n",
       "      <td>BrisbaneInternational</td>\n",
       "      <td>1.2757</td>\n",
       "      <td>42738</td>\n",
       "      <td>ATP250</td>\n",
       "      <td>2.9693</td>\n",
       "      <td>Outdoor</td>\n",
       "      <td>3.6494</td>\n",
       "      <td>Hard</td>\n",
       "      <td>4.4983</td>\n",
       "      <td>...</td>\n",
       "      <td>NishiokaY.</td>\n",
       "      <td>6.8975</td>\n",
       "      <td>TroickiV.</td>\n",
       "      <td>6.8786</td>\n",
       "      <td>100.0</td>\n",
       "      <td>29.0</td>\n",
       "      <td>2.57</td>\n",
       "      <td>1.49</td>\n",
       "      <td>0.3891</td>\n",
       "      <td>0.6711</td>\n",
       "    </tr>\n",
       "    <tr>\n",
       "      <th>9</th>\n",
       "      <td>1</td>\n",
       "      <td>BrisbaneInternational</td>\n",
       "      <td>1.2757</td>\n",
       "      <td>42738</td>\n",
       "      <td>ATP250</td>\n",
       "      <td>2.9693</td>\n",
       "      <td>Outdoor</td>\n",
       "      <td>3.6494</td>\n",
       "      <td>Hard</td>\n",
       "      <td>4.4983</td>\n",
       "      <td>...</td>\n",
       "      <td>SchwartzmanD.</td>\n",
       "      <td>6.0786</td>\n",
       "      <td>QuerreyS.</td>\n",
       "      <td>6.4965</td>\n",
       "      <td>52.0</td>\n",
       "      <td>31.0</td>\n",
       "      <td>2.18</td>\n",
       "      <td>1.66</td>\n",
       "      <td>0.4587</td>\n",
       "      <td>0.6024</td>\n",
       "    </tr>\n",
       "  </tbody>\n",
       "</table>\n",
       "<p>10 rows × 25 columns</p>\n",
       "</div>"
      ],
      "text/plain": [
       "   ATP             Tournament  Tournament_Int   Date  Series  Series_Int  \\\n",
       "0    1  BrisbaneInternational          1.2757  42737  ATP250      2.9693   \n",
       "1    1  BrisbaneInternational          1.2757  42737  ATP250      2.9693   \n",
       "2    1  BrisbaneInternational          1.2757  42737  ATP250      2.9693   \n",
       "3    1  BrisbaneInternational          1.2757  42737  ATP250      2.9693   \n",
       "4    1  BrisbaneInternational          1.2757  42737  ATP250      2.9693   \n",
       "5    1  BrisbaneInternational          1.2757  42738  ATP250      2.9693   \n",
       "6    1  BrisbaneInternational          1.2757  42738  ATP250      2.9693   \n",
       "7    1  BrisbaneInternational          1.2757  42738  ATP250      2.9693   \n",
       "8    1  BrisbaneInternational          1.2757  42738  ATP250      2.9693   \n",
       "9    1  BrisbaneInternational          1.2757  42738  ATP250      2.9693   \n",
       "\n",
       "     Court  Court_Int Surface  Surface_Int  ...        Player1  Player1_Int  \\\n",
       "0  Outdoor     3.6494    Hard       4.4983  ...         YmerE.       6.7633   \n",
       "1  Outdoor     3.6494    Hard       4.4983  ...        MahutN.       6.9297   \n",
       "2  Outdoor     3.6494    Hard       4.4983  ...        TomicB.       6.5792   \n",
       "3  Outdoor     3.6494    Hard       4.4983  ...       EdmundK.       6.8384   \n",
       "4  Outdoor     3.6494    Hard       4.4983  ...      JohnsonS.       6.7032   \n",
       "5  Outdoor     3.6494    Hard       4.4983  ...    DonaldsonJ.       6.9054   \n",
       "6  Outdoor     3.6494    Hard       4.4983  ...    HerbertP.H.       6.9637   \n",
       "7  Outdoor     3.6494    Hard       4.4983  ...      PouilleL.       6.8045   \n",
       "8  Outdoor     3.6494    Hard       4.4983  ...     NishiokaY.       6.8975   \n",
       "9  Outdoor     3.6494    Hard       4.4983  ...  SchwartzmanD.       6.0786   \n",
       "\n",
       "      Player2 Player2_Int  Player1_Rank Player2_Rank  Player1_Odds  \\\n",
       "0  ThompsonJ.      6.7926         160.0         79.0          3.50   \n",
       "1    RobertS.      6.9686          39.0         54.0          1.54   \n",
       "2    FerrerD.      6.3881          26.0         21.0          1.77   \n",
       "3  EscobedoE.      6.0929          45.0        141.0          1.37   \n",
       "4  DimitrovG.      6.5157          33.0         17.0          2.85   \n",
       "5    MullerG.      6.6176         105.0         34.0          2.64   \n",
       "6     GrothS.      6.9961          78.0        180.0          1.61   \n",
       "7     SimonG.      6.6845          15.0         25.0          1.83   \n",
       "8   TroickiV.      6.8786         100.0         29.0          2.57   \n",
       "9   QuerreyS.      6.4965          52.0         31.0          2.18   \n",
       "\n",
       "  Player2_Odds  Player1_Implied_Prob  Player2_Implied_Prob  \n",
       "0         1.29                0.2857                0.7752  \n",
       "1         2.43                0.6494                0.4115  \n",
       "2         2.01                0.5650                0.4975  \n",
       "3         3.01                0.7299                0.3322  \n",
       "4         1.41                0.3509                0.7092  \n",
       "5         1.47                0.3788                0.6803  \n",
       "6         2.27                0.6211                0.4405  \n",
       "7         1.94                0.5464                0.5155  \n",
       "8         1.49                0.3891                0.6711  \n",
       "9         1.66                0.4587                0.6024  \n",
       "\n",
       "[10 rows x 25 columns]"
      ]
     },
     "execution_count": 1,
     "metadata": {},
     "output_type": "execute_result"
    }
   ],
   "source": [
    "import pandas as pd\n",
    "from sklearn.feature_selection import SelectKBest\n",
    "from sklearn.feature_selection import chi2,f_classif\n",
    "from sklearn.metrics import accuracy_score\n",
    "from sklearn.metrics import confusion_matrix\n",
    "from sklearn.model_selection import train_test_split\n",
    "from sklearn.linear_model import LogisticRegression\n",
    "from sklearn import model_selection\n",
    "from sklearn. tree import DecisionTreeClassifier\n",
    "from sklearn.ensemble import BaggingClassifier\n",
    "from sklearn.ensemble import RandomForestClassifier\n",
    "from sklearn.preprocessing import StandardScaler\n",
    "from sklearn import ensemble\n",
    "from sklearn import metrics\n",
    "from sklearn.metrics import f1_score\n",
    "import numpy as np\n",
    "import matplotlib.pyplot as plt\n",
    "import seaborn as sns\n",
    "import math\n",
    "%matplotlib inline\n",
    "df=pd.read_csv('newdata.csv')\n",
    "df.shape\n",
    "df.info()\n",
    "df.head(10)"
   ]
  },
  {
   "cell_type": "code",
   "execution_count": 2,
   "metadata": {},
   "outputs": [
    {
     "data": {
      "text/plain": [
       "ATP                      0\n",
       "Tournament               0\n",
       "Tournament_Int           0\n",
       "Date                     0\n",
       "Series                   0\n",
       "Series_Int               0\n",
       "Court                    0\n",
       "Court_Int                0\n",
       "Surface                  0\n",
       "Surface_Int              0\n",
       "Round                    0\n",
       "Round_Int                0\n",
       "Best_of                  0\n",
       "Winner                   0\n",
       "Winner_Int               0\n",
       "Player1                  0\n",
       "Player1_Int              0\n",
       "Player2                  0\n",
       "Player2_Int              0\n",
       "Player1_Rank            23\n",
       "Player2_Rank            15\n",
       "Player1_Odds             0\n",
       "Player2_Odds             0\n",
       "Player1_Implied_Prob     0\n",
       "Player2_Implied_Prob     0\n",
       "dtype: int64"
      ]
     },
     "execution_count": 2,
     "metadata": {},
     "output_type": "execute_result"
    }
   ],
   "source": [
    "df.isnull().sum()"
   ]
  },
  {
   "cell_type": "code",
   "execution_count": 3,
   "metadata": {},
   "outputs": [
    {
     "name": "stdout",
     "output_type": "stream",
     "text": [
      "Index(['ATP', 'Tournament', 'Tournament_Int', 'Date', 'Series', 'Series_Int',\n",
      "       'Court', 'Court_Int', 'Surface', 'Surface_Int', 'Round', 'Round_Int',\n",
      "       'Best_of', 'Winner', 'Winner_Int', 'Player1', 'Player1_Int', 'Player2',\n",
      "       'Player2_Int', 'Player1_Rank', 'Player2_Rank', 'Player1_Odds',\n",
      "       'Player2_Odds', 'Player1_Implied_Prob', 'Player2_Implied_Prob'],\n",
      "      dtype='object')\n"
     ]
    }
   ],
   "source": [
    "l=[]\n",
    "l=df.columns\n",
    "print(l)"
   ]
  },
  {
   "cell_type": "code",
   "execution_count": null,
   "metadata": {},
   "outputs": [],
   "source": []
  },
  {
   "cell_type": "code",
   "execution_count": 4,
   "metadata": {},
   "outputs": [
    {
     "name": "stdout",
     "output_type": "stream",
     "text": [
      "info on ATP is as:\n",
      "count    14735.000000\n",
      "mean        31.636105\n",
      "std         17.644082\n",
      "min          1.000000\n",
      "25%         19.000000\n",
      "50%         32.000000\n",
      "75%         47.000000\n",
      "max         66.000000\n",
      "Name: ATP, dtype: float64\n",
      "no of null values:\n",
      "0\n",
      "info on Tournament is as:\n",
      "count          14735\n",
      "unique            96\n",
      "top       FrenchOpen\n",
      "freq             762\n",
      "Name: Tournament, dtype: object\n",
      "no of null values:\n",
      "0\n",
      "info on Tournament_Int is as:\n",
      "count    14735.000000\n",
      "mean         1.482577\n",
      "std          0.285704\n",
      "min          1.007100\n",
      "25%          1.240800\n",
      "50%          1.432800\n",
      "75%          1.752900\n",
      "max          1.982000\n",
      "Name: Tournament_Int, dtype: float64\n",
      "no of null values:\n",
      "0\n",
      "info on Date is as:\n",
      "count    14735.000000\n",
      "mean     41906.313946\n",
      "std        594.931815\n",
      "min      40909.000000\n",
      "25%      41395.500000\n",
      "50%      41879.000000\n",
      "75%      42425.000000\n",
      "max      42932.000000\n",
      "Name: Date, dtype: float64\n",
      "no of null values:\n",
      "0\n",
      "info on Series is as:\n",
      "count      14735\n",
      "unique         6\n",
      "top       ATP250\n",
      "freq        6225\n",
      "Name: Series, dtype: object\n",
      "no of null values:\n",
      "0\n",
      "info on Series_Int is as:\n",
      "count    14735.000000\n",
      "mean         2.765558\n",
      "std          0.288050\n",
      "min          2.257400\n",
      "25%          2.648600\n",
      "50%          2.969300\n",
      "75%          2.969300\n",
      "max          2.970900\n",
      "Name: Series_Int, dtype: float64\n",
      "no of null values:\n",
      "0\n",
      "info on Court is as:\n",
      "count       14735\n",
      "unique          2\n",
      "top       Outdoor\n",
      "freq        12236\n",
      "Name: Court, dtype: object\n",
      "no of null values:\n",
      "0\n",
      "info on Court_Int is as:\n",
      "count    14735.000000\n",
      "mean         3.583003\n",
      "std          0.146926\n",
      "min          3.257900\n",
      "25%          3.649400\n",
      "50%          3.649400\n",
      "75%          3.649400\n",
      "max          3.649400\n",
      "Name: Court_Int, dtype: float64\n",
      "no of null values:\n",
      "0\n",
      "info on Surface is as:\n",
      "count     14735\n",
      "unique        3\n",
      "top        Hard\n",
      "freq       8083\n",
      "Name: Surface, dtype: object\n",
      "no of null values:\n",
      "0\n",
      "info on Surface_Int is as:\n",
      "count    14735.000000\n",
      "mean         4.424422\n",
      "std          0.255293\n",
      "min          4.112900\n",
      "25%          4.112900\n",
      "50%          4.498300\n",
      "75%          4.498300\n",
      "max          4.919400\n",
      "Name: Surface_Int, dtype: float64\n",
      "no of null values:\n",
      "0\n",
      "info on Round is as:\n",
      "count        14735\n",
      "unique           8\n",
      "top       1stRound\n",
      "freq          6606\n",
      "Name: Round, dtype: object\n",
      "no of null values:\n",
      "0\n",
      "info on Round_Int is as:\n",
      "count    14735.000000\n",
      "mean         5.239369\n",
      "std          0.180667\n",
      "min          5.125700\n",
      "25%          5.125700\n",
      "50%          5.135100\n",
      "75%          5.251100\n",
      "max          5.954200\n",
      "Name: Round_Int, dtype: float64\n",
      "no of null values:\n",
      "0\n",
      "info on Best_of is as:\n",
      "count    14735.000000\n",
      "mean         3.395521\n",
      "std          0.796648\n",
      "min          3.000000\n",
      "25%          3.000000\n",
      "50%          3.000000\n",
      "75%          3.000000\n",
      "max          5.000000\n",
      "Name: Best_of, dtype: float64\n",
      "no of null values:\n",
      "0\n",
      "info on Winner is as:\n",
      "count          14735\n",
      "unique           378\n",
      "top       DjokovicN.\n",
      "freq             380\n",
      "Name: Winner, dtype: object\n",
      "no of null values:\n",
      "0\n",
      "info on Winner_Int is as:\n",
      "count    14735.000000\n",
      "mean         6.517008\n",
      "std          0.287249\n",
      "min          6.009000\n",
      "25%          6.253700\n",
      "50%          6.496500\n",
      "75%          6.776300\n",
      "max          6.999700\n",
      "Name: Winner_Int, dtype: float64\n",
      "no of null values:\n",
      "0\n",
      "info on Player1 is as:\n",
      "count          14735\n",
      "unique           498\n",
      "top       DjokovicN.\n",
      "freq             208\n",
      "Name: Player1, dtype: object\n",
      "no of null values:\n",
      "0\n",
      "info on Player1_Int is as:\n",
      "count    14735.000000\n",
      "mean         6.514439\n",
      "std          0.281424\n",
      "min          6.009000\n",
      "25%          6.260000\n",
      "50%          6.496500\n",
      "75%          6.765100\n",
      "max          6.999700\n",
      "Name: Player1_Int, dtype: float64\n",
      "no of null values:\n",
      "0\n",
      "info on Player2 is as:\n",
      "count          14735\n",
      "unique           495\n",
      "top       DjokovicN.\n",
      "freq             221\n",
      "Name: Player2, dtype: object\n",
      "no of null values:\n",
      "0\n",
      "info on Player2_Int is as:\n",
      "count    14735.000000\n",
      "mean         6.517430\n",
      "std          0.281607\n",
      "min          6.004500\n",
      "25%          6.261600\n",
      "50%          6.504300\n",
      "75%          6.770000\n",
      "max          6.999700\n",
      "Name: Player2_Int, dtype: float64\n",
      "no of null values:\n",
      "0\n",
      "info on Player1_Rank is as:\n",
      "count    14712.000000\n",
      "mean        72.220772\n",
      "std        113.467454\n",
      "min          1.000000\n",
      "25%         22.000000\n",
      "50%         50.000000\n",
      "75%         87.000000\n",
      "max       7380.000000\n",
      "Name: Player1_Rank, dtype: float64\n",
      "no of null values:\n",
      "23\n",
      "info on Player2_Rank is as:\n",
      "count    14720.000000\n",
      "mean        71.462296\n",
      "std         94.554760\n",
      "min          1.000000\n",
      "25%         22.000000\n",
      "50%         50.000000\n",
      "75%         87.000000\n",
      "max       1855.000000\n",
      "Name: Player2_Rank, dtype: float64\n",
      "no of null values:\n",
      "15\n",
      "info on Player1_Odds is as:\n",
      "count    14735.000000\n",
      "mean         2.791516\n",
      "std          2.805987\n",
      "min          1.010000\n",
      "25%          1.380000\n",
      "50%          1.890000\n",
      "75%          2.990000\n",
      "max         36.440000\n",
      "Name: Player1_Odds, dtype: float64\n",
      "no of null values:\n",
      "0\n",
      "info on Player2_Odds is as:\n",
      "count    14735.000000\n",
      "mean         2.746633\n",
      "std          2.632675\n",
      "min          1.010000\n",
      "25%          1.380000\n",
      "50%          1.870000\n",
      "75%          2.980000\n",
      "max         32.160000\n",
      "Name: Player2_Odds, dtype: float64\n",
      "no of null values:\n",
      "0\n",
      "info on Player1_Implied_Prob is as:\n",
      "count    14735.000000\n",
      "mean         0.528248\n",
      "std          0.243353\n",
      "min          0.027400\n",
      "25%          0.334400\n",
      "50%          0.529100\n",
      "75%          0.724600\n",
      "max          0.990100\n",
      "Name: Player1_Implied_Prob, dtype: float64\n",
      "no of null values:\n",
      "0\n",
      "info on Player2_Implied_Prob is as:\n",
      "count    14735.000000\n",
      "mean         0.531096\n",
      "std          0.243229\n",
      "min          0.031100\n",
      "25%          0.335600\n",
      "50%          0.534800\n",
      "75%          0.724600\n",
      "max          0.990100\n",
      "Name: Player2_Implied_Prob, dtype: float64\n",
      "no of null values:\n",
      "0\n"
     ]
    }
   ],
   "source": [
    "for x in l:\n",
    "    print(f'info on {x} is as:')\n",
    "    print(df[x].describe())\n",
    "    print('no of null values:')\n",
    "    print(df[x].isnull().sum())"
   ]
  },
  {
   "cell_type": "code",
   "execution_count": 5,
   "metadata": {},
   "outputs": [
    {
     "data": {
      "text/plain": [
       "498"
      ]
     },
     "execution_count": 5,
     "metadata": {},
     "output_type": "execute_result"
    }
   ],
   "source": [
    "np.count_nonzero(df['Player1'].unique())"
   ]
  },
  {
   "cell_type": "code",
   "execution_count": 6,
   "metadata": {},
   "outputs": [
    {
     "data": {
      "text/plain": [
       "495"
      ]
     },
     "execution_count": 6,
     "metadata": {},
     "output_type": "execute_result"
    }
   ],
   "source": [
    "np.count_nonzero(df['Player2'].unique())"
   ]
  },
  {
   "cell_type": "code",
   "execution_count": 7,
   "metadata": {},
   "outputs": [],
   "source": [
    "x=range(0,14735)"
   ]
  },
  {
   "cell_type": "code",
   "execution_count": 8,
   "metadata": {},
   "outputs": [
    {
     "data": {
      "text/html": [
       "<div>\n",
       "<style scoped>\n",
       "    .dataframe tbody tr th:only-of-type {\n",
       "        vertical-align: middle;\n",
       "    }\n",
       "\n",
       "    .dataframe tbody tr th {\n",
       "        vertical-align: top;\n",
       "    }\n",
       "\n",
       "    .dataframe thead th {\n",
       "        text-align: right;\n",
       "    }\n",
       "</style>\n",
       "<table border=\"1\" class=\"dataframe\">\n",
       "  <thead>\n",
       "    <tr style=\"text-align: right;\">\n",
       "      <th></th>\n",
       "      <th>targetfun1</th>\n",
       "    </tr>\n",
       "  </thead>\n",
       "  <tbody>\n",
       "    <tr>\n",
       "      <th>0</th>\n",
       "      <td>1</td>\n",
       "    </tr>\n",
       "    <tr>\n",
       "      <th>1</th>\n",
       "      <td>0</td>\n",
       "    </tr>\n",
       "    <tr>\n",
       "      <th>2</th>\n",
       "      <td>1</td>\n",
       "    </tr>\n",
       "    <tr>\n",
       "      <th>3</th>\n",
       "      <td>0</td>\n",
       "    </tr>\n",
       "    <tr>\n",
       "      <th>4</th>\n",
       "      <td>1</td>\n",
       "    </tr>\n",
       "    <tr>\n",
       "      <th>...</th>\n",
       "      <td>...</td>\n",
       "    </tr>\n",
       "    <tr>\n",
       "      <th>14730</th>\n",
       "      <td>1</td>\n",
       "    </tr>\n",
       "    <tr>\n",
       "      <th>14731</th>\n",
       "      <td>0</td>\n",
       "    </tr>\n",
       "    <tr>\n",
       "      <th>14732</th>\n",
       "      <td>1</td>\n",
       "    </tr>\n",
       "    <tr>\n",
       "      <th>14733</th>\n",
       "      <td>0</td>\n",
       "    </tr>\n",
       "    <tr>\n",
       "      <th>14734</th>\n",
       "      <td>1</td>\n",
       "    </tr>\n",
       "  </tbody>\n",
       "</table>\n",
       "<p>14735 rows × 1 columns</p>\n",
       "</div>"
      ],
      "text/plain": [
       "       targetfun1\n",
       "0               1\n",
       "1               0\n",
       "2               1\n",
       "3               0\n",
       "4               1\n",
       "...           ...\n",
       "14730           1\n",
       "14731           0\n",
       "14732           1\n",
       "14733           0\n",
       "14734           1\n",
       "\n",
       "[14735 rows x 1 columns]"
      ]
     },
     "execution_count": 8,
     "metadata": {},
     "output_type": "execute_result"
    }
   ],
   "source": [
    "target1=[]\n",
    "for i in x:\n",
    "    if df['Player1'][i]==df['Winner'][i]:\n",
    "        target1.append(0)\n",
    "    else:\n",
    "        target1.append(1)        \n",
    "df1=pd.DataFrame(target1,columns=[\"targetfun1\"])\n",
    "df1"
   ]
  },
  {
   "cell_type": "code",
   "execution_count": 9,
   "metadata": {},
   "outputs": [
    {
     "name": "stdout",
     "output_type": "stream",
     "text": [
      "       ATP             Tournament  Tournament_Int   Date      Series  \\\n",
      "0        1  BrisbaneInternational          1.2757  42737      ATP250   \n",
      "1        1  BrisbaneInternational          1.2757  42737      ATP250   \n",
      "2        1  BrisbaneInternational          1.2757  42737      ATP250   \n",
      "3        1  BrisbaneInternational          1.2757  42737      ATP250   \n",
      "4        1  BrisbaneInternational          1.2757  42737      ATP250   \n",
      "...    ...                    ...             ...    ...         ...   \n",
      "14730   65             MastersCup          1.7532  41223  MastersCup   \n",
      "14731   65             MastersCup          1.7532  41223  MastersCup   \n",
      "14732   65             MastersCup          1.7532  41224  MastersCup   \n",
      "14733   65             MastersCup          1.7532  41224  MastersCup   \n",
      "14734   65             MastersCup          1.7532  41225  MastersCup   \n",
      "\n",
      "       Series_Int    Court  Court_Int Surface  Surface_Int  ... Player1_Int  \\\n",
      "0          2.9693  Outdoor     3.6494    Hard       4.4983  ...      6.7633   \n",
      "1          2.9693  Outdoor     3.6494    Hard       4.4983  ...      6.9297   \n",
      "2          2.9693  Outdoor     3.6494    Hard       4.4983  ...      6.5792   \n",
      "3          2.9693  Outdoor     3.6494    Hard       4.4983  ...      6.8384   \n",
      "4          2.9693  Outdoor     3.6494    Hard       4.4983  ...      6.7032   \n",
      "...           ...      ...        ...     ...          ...  ...         ...   \n",
      "14730      2.7079   Indoor     3.2579    Hard       4.4983  ...      6.9997   \n",
      "14731      2.7079   Indoor     3.2579    Hard       4.4983  ...      6.3881   \n",
      "14732      2.7079   Indoor     3.2579    Hard       4.4983  ...      6.0310   \n",
      "14733      2.7079   Indoor     3.2579    Hard       4.4983  ...      6.9997   \n",
      "14734      2.7079   Indoor     3.2579    Hard       4.4983  ...      6.9997   \n",
      "\n",
      "            Player2  Player2_Int Player1_Rank  Player2_Rank Player1_Odds  \\\n",
      "0        ThompsonJ.       6.7926        160.0          79.0         3.50   \n",
      "1          RobertS.       6.9686         39.0          54.0         1.54   \n",
      "2          FerrerD.       6.3881         26.0          21.0         1.77   \n",
      "3        EscobedoE.       6.0929         45.0         141.0         1.37   \n",
      "4        DimitrovG.       6.5157         33.0          17.0         2.85   \n",
      "...             ...          ...          ...           ...          ...   \n",
      "14730  DelPotroJ.M.       6.0310          2.0           7.0         1.42   \n",
      "14731  TipsarevicJ.       6.5461          5.0           9.0         1.20   \n",
      "14732    DjokovicN.       6.9457          7.0           1.0         4.28   \n",
      "14733      MurrayA.       6.2537          2.0           3.0         2.16   \n",
      "14734    DjokovicN.       6.9457          2.0           1.0         2.26   \n",
      "\n",
      "       Player2_Odds Player1_Implied_Prob  Player2_Implied_Prob  targetfun1  \n",
      "0              1.29               0.2857                0.7752           1  \n",
      "1              2.43               0.6494                0.4115           0  \n",
      "2              2.01               0.5650                0.4975           1  \n",
      "3              3.01               0.7299                0.3322           0  \n",
      "4              1.41               0.3509                0.7092           1  \n",
      "...             ...                  ...                   ...         ...  \n",
      "14730          2.82               0.7042                0.3546           1  \n",
      "14731          4.55               0.8333                0.2198           0  \n",
      "14732          1.22               0.2336                0.8197           1  \n",
      "14733          1.68               0.4630                0.5952           0  \n",
      "14734          1.64               0.4425                0.6098           1  \n",
      "\n",
      "[14735 rows x 26 columns]\n"
     ]
    }
   ],
   "source": [
    "df=pd.concat((df,df1),axis=1)\n",
    "print(df)"
   ]
  },
  {
   "cell_type": "markdown",
   "metadata": {},
   "source": [
    "this means player 1 and player 2 have same chances of winning the match over the respective surface"
   ]
  },
  {
   "cell_type": "code",
   "execution_count": 10,
   "metadata": {},
   "outputs": [
    {
     "data": {
      "text/plain": [
       "ModeResult(mode=array([1.]), count=array([211]))"
      ]
     },
     "execution_count": 10,
     "metadata": {},
     "output_type": "execute_result"
    }
   ],
   "source": [
    "from scipy import stats\n",
    "stats.mode(df['Player1_Rank'])\n"
   ]
  },
  {
   "cell_type": "code",
   "execution_count": 11,
   "metadata": {},
   "outputs": [
    {
     "data": {
      "text/plain": [
       "ModeResult(mode=array([5.]), count=array([227]))"
      ]
     },
     "execution_count": 11,
     "metadata": {},
     "output_type": "execute_result"
    }
   ],
   "source": [
    "stats.mode(df['Player2_Rank'])\n"
   ]
  },
  {
   "cell_type": "code",
   "execution_count": 12,
   "metadata": {},
   "outputs": [
    {
     "name": "stdout",
     "output_type": "stream",
     "text": [
      "0         79.0\n",
      "1         54.0\n",
      "2         21.0\n",
      "3        141.0\n",
      "4         17.0\n",
      "         ...  \n",
      "14730      7.0\n",
      "14731      9.0\n",
      "14732      1.0\n",
      "14733      3.0\n",
      "14734      1.0\n",
      "Name: Player2_Rank, Length: 14735, dtype: float64\n",
      "0        160.0\n",
      "1         39.0\n",
      "2         26.0\n",
      "3         45.0\n",
      "4         33.0\n",
      "         ...  \n",
      "14730      2.0\n",
      "14731      5.0\n",
      "14732      7.0\n",
      "14733      2.0\n",
      "14734      2.0\n",
      "Name: Player1_Rank, Length: 14735, dtype: float64\n"
     ]
    },
    {
     "data": {
      "text/plain": [
       "0"
      ]
     },
     "execution_count": 12,
     "metadata": {},
     "output_type": "execute_result"
    }
   ],
   "source": [
    "df['Player2_Rank']=df['Player2_Rank'].fillna(227)\n",
    "print(df['Player2_Rank'])  \n",
    "df['Player1_Rank']=df['Player1_Rank'].fillna(211)\n",
    "print(df['Player1_Rank']) \n",
    "df['Player1_Rank'].isnull().sum()"
   ]
  },
  {
   "cell_type": "code",
   "execution_count": 13,
   "metadata": {},
   "outputs": [
    {
     "data": {
      "text/plain": [
       "<matplotlib.axes._subplots.AxesSubplot at 0x146822a41f0>"
      ]
     },
     "execution_count": 13,
     "metadata": {},
     "output_type": "execute_result"
    },
    {
     "data": {
      "image/png": "[encoded data removed]",
      "text/plain": [
       "<Figure size 432x288 with 1 Axes>"
      ]
     },
     "metadata": {
      "needs_background": "light"
     },
     "output_type": "display_data"
    }
   ],
   "source": [
    "sns.countplot(x='targetfun1',hue='Round',data=df)"
   ]
  },
  {
   "cell_type": "code",
   "execution_count": 14,
   "metadata": {},
   "outputs": [
    {
     "data": {
      "text/plain": [
       "<matplotlib.axes._subplots.AxesSubplot at 0x14687fc25b0>"
      ]
     },
     "execution_count": 14,
     "metadata": {},
     "output_type": "execute_result"
    },
    {
     "data": {
      "image/png": "[encoded data removed]",
      "text/plain": [
       "<Figure size 432x288 with 1 Axes>"
      ]
     },
     "metadata": {
      "needs_background": "light"
     },
     "output_type": "display_data"
    }
   ],
   "source": [
    "sns.countplot(x='Best_of',hue='targetfun1',data=df)"
   ]
  },
  {
   "cell_type": "code",
   "execution_count": 15,
   "metadata": {},
   "outputs": [
    {
     "data": {
      "text/plain": [
       "<matplotlib.axes._subplots.AxesSubplot at 0x146881cecd0>"
      ]
     },
     "execution_count": 15,
     "metadata": {},
     "output_type": "execute_result"
    },
    {
     "data": {
      "image/png": "[encoded data removed]",
      "text/plain": [
       "<Figure size 432x288 with 1 Axes>"
      ]
     },
     "metadata": {
      "needs_background": "light"
     },
     "output_type": "display_data"
    }
   ],
   "source": [
    "sns.countplot(x='Player1_Rank',hue='targetfun1',data=df)"
   ]
  },
  {
   "cell_type": "code",
   "execution_count": 16,
   "metadata": {},
   "outputs": [
    {
     "data": {
      "text/plain": [
       "<matplotlib.axes._subplots.AxesSubplot at 0x14688ba3ca0>"
      ]
     },
     "execution_count": 16,
     "metadata": {},
     "output_type": "execute_result"
    },
    {
     "data": {
      "image/png": "[encoded data removed]",
      "text/plain": [
       "<Figure size 432x288 with 1 Axes>"
      ]
     },
     "metadata": {
      "needs_background": "light"
     },
     "output_type": "display_data"
    }
   ],
   "source": [
    "sns.countplot(x='targetfun1',data=df)"
   ]
  },
  {
   "cell_type": "code",
   "execution_count": 17,
   "metadata": {},
   "outputs": [
    {
     "data": {
      "text/plain": [
       "<matplotlib.axes._subplots.AxesSubplot at 0x14689fa9c10>"
      ]
     },
     "execution_count": 17,
     "metadata": {},
     "output_type": "execute_result"
    },
    {
     "data": {
      "image/png": "[encoded data removed]",
      "text/plain": [
       "<Figure size 432x288 with 1 Axes>"
      ]
     },
     "metadata": {
      "needs_background": "light"
     },
     "output_type": "display_data"
    }
   ],
   "source": [
    "sns.barplot(x=\"Surface\",y=\"targetfun1\",data=df)"
   ]
  },
  {
   "cell_type": "code",
   "execution_count": 18,
   "metadata": {},
   "outputs": [
    {
     "data": {
      "text/plain": [
       "7368"
      ]
     },
     "execution_count": 18,
     "metadata": {},
     "output_type": "execute_result"
    }
   ],
   "source": [
    "np.count_nonzero(df['targetfun1'])"
   ]
  },
  {
   "cell_type": "code",
   "execution_count": 19,
   "metadata": {},
   "outputs": [
    {
     "name": "stdout",
     "output_type": "stream",
     "text": [
      "0        1\n",
      "1        0\n",
      "2        1\n",
      "3        0\n",
      "4        1\n",
      "        ..\n",
      "14730    1\n",
      "14731    0\n",
      "14732    1\n",
      "14733    0\n",
      "14734    1\n",
      "Name: targetfun1, Length: 14735, dtype: int64\n"
     ]
    }
   ],
   "source": [
    "print(df['targetfun1'])\n",
    "y=df['targetfun1']"
   ]
  },
  {
   "cell_type": "code",
   "execution_count": 20,
   "metadata": {},
   "outputs": [
    {
     "name": "stdout",
     "output_type": "stream",
     "text": [
      "       ATP  Tournament_Int   Date  Series_Int  Court_Int  Surface_Int  \\\n",
      "0        1          1.2757  42737      2.9693     3.6494       4.4983   \n",
      "1        1          1.2757  42737      2.9693     3.6494       4.4983   \n",
      "2        1          1.2757  42737      2.9693     3.6494       4.4983   \n",
      "3        1          1.2757  42737      2.9693     3.6494       4.4983   \n",
      "4        1          1.2757  42737      2.9693     3.6494       4.4983   \n",
      "...    ...             ...    ...         ...        ...          ...   \n",
      "14730   65          1.7532  41223      2.7079     3.2579       4.4983   \n",
      "14731   65          1.7532  41223      2.7079     3.2579       4.4983   \n",
      "14732   65          1.7532  41224      2.7079     3.2579       4.4983   \n",
      "14733   65          1.7532  41224      2.7079     3.2579       4.4983   \n",
      "14734   65          1.7532  41225      2.7079     3.2579       4.4983   \n",
      "\n",
      "       Round_Int  Best_of  Winner_Int  Player1_Int  Player2_Int  Player1_Rank  \\\n",
      "0         5.1257        3      6.7926       6.7633       6.7926         160.0   \n",
      "1         5.1257        3      6.9297       6.9297       6.9686          39.0   \n",
      "2         5.1257        3      6.3881       6.5792       6.3881          26.0   \n",
      "3         5.1257        3      6.8384       6.8384       6.0929          45.0   \n",
      "4         5.1257        3      6.5157       6.7032       6.5157          33.0   \n",
      "...          ...      ...         ...          ...          ...           ...   \n",
      "14730     5.9542        3      6.0310       6.9997       6.0310           2.0   \n",
      "14731     5.9542        3      6.3881       6.3881       6.5461           5.0   \n",
      "14732     5.2101        3      6.9457       6.0310       6.9457           7.0   \n",
      "14733     5.2101        3      6.9997       6.9997       6.2537           2.0   \n",
      "14734     5.3011        3      6.9457       6.9997       6.9457           2.0   \n",
      "\n",
      "       Player2_Rank  Player1_Odds  Player2_Odds  Player1_Implied_Prob  \\\n",
      "0              79.0          3.50          1.29                0.2857   \n",
      "1              54.0          1.54          2.43                0.6494   \n",
      "2              21.0          1.77          2.01                0.5650   \n",
      "3             141.0          1.37          3.01                0.7299   \n",
      "4              17.0          2.85          1.41                0.3509   \n",
      "...             ...           ...           ...                   ...   \n",
      "14730           7.0          1.42          2.82                0.7042   \n",
      "14731           9.0          1.20          4.55                0.8333   \n",
      "14732           1.0          4.28          1.22                0.2336   \n",
      "14733           3.0          2.16          1.68                0.4630   \n",
      "14734           1.0          2.26          1.64                0.4425   \n",
      "\n",
      "       Player2_Implied_Prob  targetfun1  \n",
      "0                    0.7752           1  \n",
      "1                    0.4115           0  \n",
      "2                    0.4975           1  \n",
      "3                    0.3322           0  \n",
      "4                    0.7092           1  \n",
      "...                     ...         ...  \n",
      "14730                0.3546           1  \n",
      "14731                0.2198           0  \n",
      "14732                0.8197           1  \n",
      "14733                0.5952           0  \n",
      "14734                0.6098           1  \n",
      "\n",
      "[14735 rows x 18 columns]\n"
     ]
    }
   ],
   "source": [
    "dropping=['Tournament','Series','Court','Surface','Round','Winner','Player1','Player2']\n",
    "for x in dropping:\n",
    "    df.drop(x,axis=1,inplace=True)\n",
    "print(df)"
   ]
  },
  {
   "cell_type": "code",
   "execution_count": 21,
   "metadata": {},
   "outputs": [],
   "source": [
    "x1=df[['Tournament_Int','Series_Int','Court_Int','Surface_Int','Round_Int','Best_of','Winner_Int','Player1_Int','Player2_Int']]\n",
    "x2=df[['ATP','Date','Player1_Rank','Player2_Rank','Player1_Odds','Player2_Odds','Player1_Implied_Prob','Player1_Implied_Prob']]"
   ]
  },
  {
   "cell_type": "code",
   "execution_count": 22,
   "metadata": {},
   "outputs": [
    {
     "name": "stdout",
     "output_type": "stream",
     "text": [
      "       Tournament_Int  Series_Int  Court_Int  Surface_Int  Round_Int  Best_of  \\\n",
      "0              1.2757      2.9693     3.6494       4.4983     5.1257        3   \n",
      "1              1.2757      2.9693     3.6494       4.4983     5.1257        3   \n",
      "2              1.2757      2.9693     3.6494       4.4983     5.1257        3   \n",
      "3              1.2757      2.9693     3.6494       4.4983     5.1257        3   \n",
      "4              1.2757      2.9693     3.6494       4.4983     5.1257        3   \n",
      "...               ...         ...        ...          ...        ...      ...   \n",
      "14730          1.7532      2.7079     3.2579       4.4983     5.9542        3   \n",
      "14731          1.7532      2.7079     3.2579       4.4983     5.9542        3   \n",
      "14732          1.7532      2.7079     3.2579       4.4983     5.2101        3   \n",
      "14733          1.7532      2.7079     3.2579       4.4983     5.2101        3   \n",
      "14734          1.7532      2.7079     3.2579       4.4983     5.3011        3   \n",
      "\n",
      "       Winner_Int  Player1_Int  Player2_Int  \n",
      "0          6.7926       6.7633       6.7926  \n",
      "1          6.9297       6.9297       6.9686  \n",
      "2          6.3881       6.5792       6.3881  \n",
      "3          6.8384       6.8384       6.0929  \n",
      "4          6.5157       6.7032       6.5157  \n",
      "...           ...          ...          ...  \n",
      "14730      6.0310       6.9997       6.0310  \n",
      "14731      6.3881       6.3881       6.5461  \n",
      "14732      6.9457       6.0310       6.9457  \n",
      "14733      6.9997       6.9997       6.2537  \n",
      "14734      6.9457       6.9997       6.9457  \n",
      "\n",
      "[14735 rows x 9 columns]\n",
      "       ATP   Date  Player1_Rank  Player2_Rank  Player1_Odds  Player2_Odds  \\\n",
      "0        1  42737         160.0          79.0          3.50          1.29   \n",
      "1        1  42737          39.0          54.0          1.54          2.43   \n",
      "2        1  42737          26.0          21.0          1.77          2.01   \n",
      "3        1  42737          45.0         141.0          1.37          3.01   \n",
      "4        1  42737          33.0          17.0          2.85          1.41   \n",
      "...    ...    ...           ...           ...           ...           ...   \n",
      "14730   65  41223           2.0           7.0          1.42          2.82   \n",
      "14731   65  41223           5.0           9.0          1.20          4.55   \n",
      "14732   65  41224           7.0           1.0          4.28          1.22   \n",
      "14733   65  41224           2.0           3.0          2.16          1.68   \n",
      "14734   65  41225           2.0           1.0          2.26          1.64   \n",
      "\n",
      "       Player1_Implied_Prob  Player1_Implied_Prob  \n",
      "0                    0.2857                0.2857  \n",
      "1                    0.6494                0.6494  \n",
      "2                    0.5650                0.5650  \n",
      "3                    0.7299                0.7299  \n",
      "4                    0.3509                0.3509  \n",
      "...                     ...                   ...  \n",
      "14730                0.7042                0.7042  \n",
      "14731                0.8333                0.8333  \n",
      "14732                0.2336                0.2336  \n",
      "14733                0.4630                0.4630  \n",
      "14734                0.4425                0.4425  \n",
      "\n",
      "[14735 rows x 8 columns]\n",
      "0        1\n",
      "1        0\n",
      "2        1\n",
      "3        0\n",
      "4        1\n",
      "        ..\n",
      "14730    1\n",
      "14731    0\n",
      "14732    1\n",
      "14733    0\n",
      "14734    1\n",
      "Name: targetfun1, Length: 14735, dtype: int64\n"
     ]
    }
   ],
   "source": [
    "print(x1)\n",
    "print(x2)\n",
    "print(y)"
   ]
  },
  {
   "cell_type": "code",
   "execution_count": 23,
   "metadata": {},
   "outputs": [
    {
     "name": "stdout",
     "output_type": "stream",
     "text": [
      "['Tournament_Int' 'Series_Int' 'Surface_Int' 'Round_Int' 'Best_of'\n",
      " 'Winner_Int' 'Player1_Int' 'Player2_Int']\n",
      "[5.27384256e-04 3.25243667e-06 3.80413802e-05 8.56851882e-06\n",
      " 5.37271612e-03 3.19679814e-05 1.35813256e-02 2.06900721e-04]\n",
      "[('Tournament_Int', 0.0005273842564133971), ('Series_Int', 3.2524366711158603e-06), ('Surface_Int', 3.804138024732386e-05), ('Round_Int', 8.568518815181085e-06), ('Best_of', 0.005372716123228137), ('Winner_Int', 3.1967981420092994e-05), ('Player1_Int', 0.013581325585670843), ('Player2_Int', 0.00020690072145969352)]\n"
     ]
    }
   ],
   "source": [
    "bestfeatures=SelectKBest(score_func=chi2,k=8)\n",
    "fit=bestfeatures.fit_transform(x1,y)\n",
    "cols=x1.columns.values[bestfeatures.get_support()]\n",
    "print(cols)\n",
    "scores=bestfeatures.scores_[bestfeatures.get_support()]\n",
    "print(scores)\n",
    "name_scores=list(zip(cols,scores))\n",
    "print(name_scores)\n"
   ]
  },
  {
   "cell_type": "code",
   "execution_count": null,
   "metadata": {},
   "outputs": [],
   "source": []
  },
  {
   "cell_type": "code",
   "execution_count": null,
   "metadata": {},
   "outputs": [],
   "source": []
  },
  {
   "cell_type": "code",
   "execution_count": null,
   "metadata": {},
   "outputs": [],
   "source": [
    "             "
   ]
  },
  {
   "cell_type": "code",
   "execution_count": null,
   "metadata": {},
   "outputs": [],
   "source": []
  },
  {
   "cell_type": "code",
   "execution_count": 24,
   "metadata": {},
   "outputs": [
    {
     "name": "stdout",
     "output_type": "stream",
     "text": [
      "[('ATP', 0.001674127190759714), ('Date', 0.00011613871377847595), ('Player1_Rank', 320.49985975686064), ('Player2_Rank', 480.0552271481952), ('Player1_Odds', 1903.545056128768), ('Player2_Odds', 2069.9113820186717), ('Player1_Implied_Prob', 4737.081990699774), ('Player1_Implied_Prob', 4737.081990699774)]\n"
     ]
    }
   ],
   "source": [
    "bestfeatures1=SelectKBest(score_func=f_classif,k=8)\n",
    "fit=bestfeatures1.fit_transform(x2,y)\n",
    "cols1=x2.columns.values[bestfeatures1.get_support()]\n",
    "scores1=bestfeatures1.scores_[bestfeatures1.get_support()]\n",
    "name_scores1=list(zip(cols1,scores1))\n",
    "print(name_scores1)\n"
   ]
  },
  {
   "cell_type": "code",
   "execution_count": 25,
   "metadata": {},
   "outputs": [],
   "source": [
    "l5=['Court_Int','Series_Int','Round_Int','ATP','Date']\n",
    "for x in l5:\n",
    "         df.drop(x,axis=1,inplace=True)"
   ]
  },
  {
   "cell_type": "code",
   "execution_count": 26,
   "metadata": {},
   "outputs": [
    {
     "name": "stdout",
     "output_type": "stream",
     "text": [
      "       Tournament_Int  Surface_Int  Best_of  Winner_Int  Player1_Int  \\\n",
      "0              1.2757       4.4983        3      6.7926       6.7633   \n",
      "1              1.2757       4.4983        3      6.9297       6.9297   \n",
      "2              1.2757       4.4983        3      6.3881       6.5792   \n",
      "3              1.2757       4.4983        3      6.8384       6.8384   \n",
      "4              1.2757       4.4983        3      6.5157       6.7032   \n",
      "...               ...          ...      ...         ...          ...   \n",
      "14730          1.7532       4.4983        3      6.0310       6.9997   \n",
      "14731          1.7532       4.4983        3      6.3881       6.3881   \n",
      "14732          1.7532       4.4983        3      6.9457       6.0310   \n",
      "14733          1.7532       4.4983        3      6.9997       6.9997   \n",
      "14734          1.7532       4.4983        3      6.9457       6.9997   \n",
      "\n",
      "       Player2_Int  Player1_Rank  Player2_Rank  Player1_Odds  Player2_Odds  \\\n",
      "0           6.7926         160.0          79.0          3.50          1.29   \n",
      "1           6.9686          39.0          54.0          1.54          2.43   \n",
      "2           6.3881          26.0          21.0          1.77          2.01   \n",
      "3           6.0929          45.0         141.0          1.37          3.01   \n",
      "4           6.5157          33.0          17.0          2.85          1.41   \n",
      "...            ...           ...           ...           ...           ...   \n",
      "14730       6.0310           2.0           7.0          1.42          2.82   \n",
      "14731       6.5461           5.0           9.0          1.20          4.55   \n",
      "14732       6.9457           7.0           1.0          4.28          1.22   \n",
      "14733       6.2537           2.0           3.0          2.16          1.68   \n",
      "14734       6.9457           2.0           1.0          2.26          1.64   \n",
      "\n",
      "       Player1_Implied_Prob  Player2_Implied_Prob  targetfun1  \n",
      "0                    0.2857                0.7752           1  \n",
      "1                    0.6494                0.4115           0  \n",
      "2                    0.5650                0.4975           1  \n",
      "3                    0.7299                0.3322           0  \n",
      "4                    0.3509                0.7092           1  \n",
      "...                     ...                   ...         ...  \n",
      "14730                0.7042                0.3546           1  \n",
      "14731                0.8333                0.2198           0  \n",
      "14732                0.2336                0.8197           1  \n",
      "14733                0.4630                0.5952           0  \n",
      "14734                0.4425                0.6098           1  \n",
      "\n",
      "[14735 rows x 13 columns]\n"
     ]
    }
   ],
   "source": [
    "print(df)"
   ]
  },
  {
   "cell_type": "code",
   "execution_count": null,
   "metadata": {},
   "outputs": [],
   "source": []
  },
  {
   "cell_type": "code",
   "execution_count": null,
   "metadata": {},
   "outputs": [],
   "source": []
  },
  {
   "cell_type": "code",
   "execution_count": null,
   "metadata": {},
   "outputs": [],
   "source": []
  },
  {
   "cell_type": "code",
   "execution_count": null,
   "metadata": {},
   "outputs": [],
   "source": []
  },
  {
   "cell_type": "code",
   "execution_count": 41,
   "metadata": {},
   "outputs": [
    {
     "name": "stderr",
     "output_type": "stream",
     "text": [
      "C:\\ProgramData\\Anaconda3\\lib\\site-packages\\sklearn\\linear_model\\_logistic.py:762: ConvergenceWarning: lbfgs failed to converge (status=1):\n",
      "STOP: TOTAL NO. of ITERATIONS REACHED LIMIT.\n",
      "\n",
      "Increase the number of iterations (max_iter) or scale the data as shown in:\n",
      "    https://scikit-learn.org/stable/modules/preprocessing.html\n",
      "Please also refer to the documentation for alternative solver options:\n",
      "    https://scikit-learn.org/stable/modules/linear_model.html#logistic-regression\n",
      "  n_iter_i = _check_optimize_result(\n"
     ]
    },
    {
     "data": {
      "text/plain": [
       "LogisticRegression()"
      ]
     },
     "execution_count": 41,
     "metadata": {},
     "output_type": "execute_result"
    }
   ],
   "source": [
    "scaling=StandardScaler()\n",
    "x=df.drop('targetfun1',axis=1)\n",
    "scaling.fit_transform(x);\n",
    "y=df['targetfun1']\n",
    "X_train,X_test,y_train,y_test=train_test_split(x,y,test_size=0.3,random_state=7)\n",
    "from sklearn.linear_model import LogisticRegression\n",
    "lgmodel=LogisticRegression()\n",
    "lgmodel.fit(X_train,y_train)"
   ]
  },
  {
   "cell_type": "code",
   "execution_count": 42,
   "metadata": {},
   "outputs": [
    {
     "data": {
      "text/plain": [
       "array([1, 1, 1, ..., 1, 1, 1], dtype=int64)"
      ]
     },
     "execution_count": 42,
     "metadata": {},
     "output_type": "execute_result"
    }
   ],
   "source": [
    "predictions=lgmodel.predict(X_test)\n",
    "predictions"
   ]
  },
  {
   "cell_type": "code",
   "execution_count": 37,
   "metadata": {},
   "outputs": [
    {
     "name": "stdout",
     "output_type": "stream",
     "text": [
      "14195    0\n",
      "2750     1\n",
      "2646     1\n",
      "1783     0\n",
      "4001     0\n",
      "        ..\n",
      "244      1\n",
      "3045     0\n",
      "2652     1\n",
      "8830     1\n",
      "4195     0\n",
      "Name: targetfun1, Length: 4421, dtype: int64\n",
      "1\n"
     ]
    }
   ],
   "source": [
    "print(y_test)\n",
    "print(predictions[0])"
   ]
  },
  {
   "cell_type": "code",
   "execution_count": 43,
   "metadata": {},
   "outputs": [
    {
     "data": {
      "text/plain": [
       "0.7000678579506899"
      ]
     },
     "execution_count": 43,
     "metadata": {},
     "output_type": "execute_result"
    }
   ],
   "source": [
    "from sklearn.metrics import accuracy_score\n",
    "accuracy_score(y_test,predictions)"
   ]
  },
  {
   "cell_type": "code",
   "execution_count": null,
   "metadata": {},
   "outputs": [],
   "source": [
    "print(df)"
   ]
  },
  {
   "cell_type": "code",
   "execution_count": 53,
   "metadata": {},
   "outputs": [
    {
     "name": "stdout",
     "output_type": "stream",
     "text": [
      "0.9594844238352765\n"
     ]
    }
   ],
   "source": [
    "seed=7\n",
    "kfold=model_selection.KFold(n_splits=10,random_state=seed,shuffle=True)\n",
    "cart=DecisionTreeClassifier()\n",
    "num_trees=100\n",
    "model=BaggingClassifier(base_estimator=cart,n_estimators=num_trees,random_state=None)\n",
    "r=model_selection.cross_val_score(model,x,y,cv=kfold)\n",
    "print(r.mean())"
   ]
  },
  {
   "cell_type": "code",
   "execution_count": 46,
   "metadata": {},
   "outputs": [
    {
     "name": "stdout",
     "output_type": "stream",
     "text": [
      "0.9596883661676804\n"
     ]
    }
   ],
   "source": [
    "model1=RandomForestClassifier(n_estimators=num_trees,max_features=4,random_state=7)\n",
    "r1=model_selection.cross_val_score(model,x,y,cv=kfold)\n",
    "print(r1.mean())"
   ]
  },
  {
   "cell_type": "code",
   "execution_count": 47,
   "metadata": {},
   "outputs": [],
   "source": [
    "model1.fit(X_train,y_train)\n",
    "rf_predictions=model1.predict(X_test)"
   ]
  },
  {
   "cell_type": "code",
   "execution_count": 48,
   "metadata": {},
   "outputs": [],
   "source": [
    "rf_probs=model1.predict_proba(X_test)[:,1]"
   ]
  },
  {
   "cell_type": "code",
   "execution_count": 49,
   "metadata": {},
   "outputs": [],
   "source": [
    "from sklearn.metrics import roc_auc_score\n",
    "roc_value=roc_auc_score(y_test,rf_probs)"
   ]
  },
  {
   "cell_type": "code",
   "execution_count": 50,
   "metadata": {},
   "outputs": [
    {
     "name": "stdout",
     "output_type": "stream",
     "text": [
      "0.9738919934887311\n"
     ]
    }
   ],
   "source": [
    "print(roc_value)"
   ]
  },
  {
   "cell_type": "code",
   "execution_count": 51,
   "metadata": {},
   "outputs": [],
   "source": [
    "def reports(ytrue,predicted):\n",
    "    print(\"Accuracy : {}\".format(metrics.accuracy_score(ytrue,predicted)))\n",
    "    print(\"Precision : {}\".format(metrics.precision_score(ytrue,predicted)))\n",
    "    print(\"Recall : {}\".format(metrics.recall_score(ytrue,predicted)))\n",
    "    print(\"F1_score : {}\".format(metrics.f1_score(ytrue,predicted)))\n",
    "    ##print(\"Logloss : {}\".format(metrics.log_loss(ytrue,predicted)))\n",
    "    print(\"AUC : {}\".format(metrics.roc_auc_score(ytrue,predicted)))"
   ]
  },
  {
   "cell_type": "code",
   "execution_count": 52,
   "metadata": {},
   "outputs": [
    {
     "name": "stdout",
     "output_type": "stream",
     "text": [
      "########TRAIN REPORT#########\n",
      "Accuracy : 1.0\n",
      "Precision : 1.0\n",
      "Recall : 1.0\n",
      "F1_score : 1.0\n",
      "AUC : 1.0\n",
      "########TEST REPORT#########\n",
      "Accuracy : 0.9156299479755712\n",
      "Precision : 0.913336326897171\n",
      "Recall : 0.9186991869918699\n",
      "F1_score : 0.9160099076784507\n",
      "AUC : 0.9156250805824777\n"
     ]
    }
   ],
   "source": [
    "predtest=model1.predict(X_test)\n",
    "predtrain=model1.predict(X_train)\n",
    "print(\"########TRAIN REPORT#########\")\n",
    "reports(y_train,predtrain)\n",
    "print(\"########TEST REPORT#########\")\n",
    "reports(y_test,predtest)"
   ]
  },
  {
   "cell_type": "code",
   "execution_count": null,
   "metadata": {},
   "outputs": [],
   "source": [
    "from joblib import dump, load\n",
    "dump(model1, 'ankit.joblib')"
   ]
  },
  {
   "cell_type": "code",
   "execution_count": null,
   "metadata": {},
   "outputs": [],
   "source": [
    "print(X_train)"
   ]
  },
  {
   "cell_type": "code",
   "execution_count": null,
   "metadata": {},
   "outputs": [],
   "source": [
    "rf_predictions"
   ]
  },
  {
   "cell_type": "code",
   "execution_count": null,
   "metadata": {},
   "outputs": [],
   "source": []
  }
 ],
 "metadata": {
  "kernelspec": {
   "display_name": "Python 3",
   "language": "python",
   "name": "python3"
  },
  "language_info": {
   "codemirror_mode": {
    "name": "ipython",
    "version": 3
   },
   "file_extension": ".py",
   "mimetype": "text/x-python",
   "name": "python",
   "nbconvert_exporter": "python",
   "pygments_lexer": "ipython3",
   "version": "3.8.3"
  }
 },
 "nbformat": 4,
 "nbformat_minor": 2
}
